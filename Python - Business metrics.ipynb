{
 "cells": [
  {
   "cell_type": "markdown",
   "id": "87d7393c-275a-4348-a32a-39a0daf860e6",
   "metadata": {},
   "source": [
    "# Business Metrics"
   ]
  },
  {
   "cell_type": "markdown",
   "id": "bae838fe-9e26-4658-96fe-112c040ac582",
   "metadata": {},
   "source": [
    "In most institutions, management keeps track of the overall health of the business through the result of measurements called metrics. Two common metrics (Net Promoter Score & Churn Rate ) will be create in the following."
   ]
  },
  {
   "cell_type": "markdown",
   "id": "c9739c7e-bd4f-4deb-9ebc-d229dc121354",
   "metadata": {},
   "source": [
    "## Net Promoter Score NPS "
   ]
  },
  {
   "cell_type": "markdown",
   "id": "679f7765-dea5-40ca-9f79-63977e555375",
   "metadata": {},
   "source": [
    "NPS is a customer success metric that quantifies customer satisfaction. \n",
    "\n",
    "- Detractors: Unhappy customers who share their negative experience with the product or company; they may actively spread negative feedback.\n",
    "\n",
    "- Passives: Customers who may be pleased with the product, but aren't actively promoting it and will quickly turn to the competition if a better opportunity presents itself.\n",
    "\n",
    "- Promoters: Extremely satisfied customers who will act as brand ambassadors.\n",
    "\n",
    "Formula of NPS is calculated as the percentage of promoters minus the percentage of detractors."
   ]
  },
  {
   "cell_type": "code",
   "execution_count": 32,
   "id": "416a31d3-95b6-4d43-addd-fbaf3b000652",
   "metadata": {},
   "outputs": [],
   "source": [
    "import pandas as pd\n",
    "import matplotlib.pyplot as plt\n",
    "import datetime as dt\n",
    "import seaborn as sns"
   ]
  },
  {
   "cell_type": "code",
   "execution_count": 33,
   "id": "81d2f599-ff3a-408c-a146-d7e0729b6256",
   "metadata": {},
   "outputs": [
    {
     "data": {
      "text/html": [
       "<div>\n",
       "<style scoped>\n",
       "    .dataframe tbody tr th:only-of-type {\n",
       "        vertical-align: middle;\n",
       "    }\n",
       "\n",
       "    .dataframe tbody tr th {\n",
       "        vertical-align: top;\n",
       "    }\n",
       "\n",
       "    .dataframe thead th {\n",
       "        text-align: right;\n",
       "    }\n",
       "</style>\n",
       "<table border=\"1\" class=\"dataframe\">\n",
       "  <thead>\n",
       "    <tr style=\"text-align: right;\">\n",
       "      <th></th>\n",
       "      <th>event_date</th>\n",
       "      <th>user_id</th>\n",
       "      <th>score</th>\n",
       "    </tr>\n",
       "  </thead>\n",
       "  <tbody>\n",
       "    <tr>\n",
       "      <th>0</th>\n",
       "      <td>2020-01-01 19:00:51</td>\n",
       "      <td>290067447</td>\n",
       "      <td>8</td>\n",
       "    </tr>\n",
       "    <tr>\n",
       "      <th>1</th>\n",
       "      <td>2020-01-02 17:34:43</td>\n",
       "      <td>223014806</td>\n",
       "      <td>10</td>\n",
       "    </tr>\n",
       "    <tr>\n",
       "      <th>2</th>\n",
       "      <td>2020-01-02 19:11:55</td>\n",
       "      <td>187864388</td>\n",
       "      <td>10</td>\n",
       "    </tr>\n",
       "    <tr>\n",
       "      <th>3</th>\n",
       "      <td>2020-01-02 19:27:00</td>\n",
       "      <td>318758952</td>\n",
       "      <td>8</td>\n",
       "    </tr>\n",
       "    <tr>\n",
       "      <th>4</th>\n",
       "      <td>2020-01-02 21:42:19</td>\n",
       "      <td>189933311</td>\n",
       "      <td>0</td>\n",
       "    </tr>\n",
       "  </tbody>\n",
       "</table>\n",
       "</div>"
      ],
      "text/plain": [
       "           event_date    user_id  score\n",
       "0 2020-01-01 19:00:51  290067447      8\n",
       "1 2020-01-02 17:34:43  223014806     10\n",
       "2 2020-01-02 19:11:55  187864388     10\n",
       "3 2020-01-02 19:27:00  318758952      8\n",
       "4 2020-01-02 21:42:19  189933311      0"
      ]
     },
     "execution_count": 33,
     "metadata": {},
     "output_type": "execute_result"
    }
   ],
   "source": [
    "nps = pd.read_csv(\"/Users/chanemma/Desktop/Dataquest/nps.csv\", parse_dates=[\"event_date\"])\n",
    "nps.head()"
   ]
  },
  {
   "cell_type": "code",
   "execution_count": 34,
   "id": "88a34f74-a7b6-4504-b2f5-fa9c07dca0b6",
   "metadata": {},
   "outputs": [],
   "source": [
    "def categorize(score):\n",
    "    if score in range(7):\n",
    "        return \"Detractor\"\n",
    "    elif score in [7,8]:\n",
    "        return \"Passive\"\n",
    "    elif score in [9,10]:\n",
    "        return \"Promoter\"\n",
    "    else:\n",
    "        return \"score should be >= 0 or < 11 without decimal\""
   ]
  },
  {
   "cell_type": "code",
   "execution_count": 35,
   "id": "cab6adea-c272-4aca-9eb6-54be4fa74e0e",
   "metadata": {},
   "outputs": [
    {
     "name": "stdout",
     "output_type": "stream",
     "text": [
      "<class 'pandas.core.frame.DataFrame'>\n",
      "RangeIndex: 3326 entries, 0 to 3325\n",
      "Data columns (total 3 columns):\n",
      " #   Column      Non-Null Count  Dtype         \n",
      "---  ------      --------------  -----         \n",
      " 0   event_date  3326 non-null   datetime64[ns]\n",
      " 1   user_id     3326 non-null   int64         \n",
      " 2   score       3326 non-null   int64         \n",
      "dtypes: datetime64[ns](1), int64(2)\n",
      "memory usage: 78.1 KB\n"
     ]
    }
   ],
   "source": [
    "nps.info()\n",
    "year = nps[\"event_date\"].dt.year\n",
    "month = nps[\"event_date\"].dt.month\n",
    "nps[\"yearmonth\"] = 100*year + month"
   ]
  },
  {
   "cell_type": "code",
   "execution_count": 36,
   "id": "86a1ae12-dbba-4ec6-83aa-e7ea1868727e",
   "metadata": {},
   "outputs": [],
   "source": [
    "nps['category'] = nps['score'].apply(categorize)\n",
    "nps = nps.pivot_table(index='yearmonth',columns='category',aggfunc='size')\n",
    "nps[\"total_responses\"]=nps.sum(axis=1)\n",
    "nps[\"nps\"]=(nps['Promoter']-nps['Detractor'])/nps['total_responses']\n",
    "nps[\"nps\"]=(nps['nps']*100).astype(int)"
   ]
  },
  {
   "cell_type": "code",
   "execution_count": 37,
   "id": "a09fac23-f8f4-4101-a80f-33a9fd86d8c6",
   "metadata": {},
   "outputs": [
    {
     "data": {
      "text/plain": [
       "Text(0.5, 0, '')"
      ]
     },
     "execution_count": 37,
     "metadata": {},
     "output_type": "execute_result"
    },
    {
     "data": {
      "image/png": "[encoded data removed]",
      "text/plain": [
       "<Figure size 864x432 with 1 Axes>"
      ]
     },
     "metadata": {},
     "output_type": "display_data"
    }
   ],
   "source": [
    "ax = nps.reset_index().plot(kind=\"line\", x=\"yearmonth\",y=\"nps\",\n",
    "                            figsize=(12,6), legend=False\n",
    "                           )\n",
    "ax.set_xticks(nps.index)\n",
    "ax.set_xticklabels(nps.index, rotation=45)\n",
    "ax.axes.get_xaxis().set_label_text(\"\")"
   ]
  },
  {
   "cell_type": "markdown",
   "id": "8699ceeb-f260-45b5-96ec-7ac136b5b817",
   "metadata": {},
   "source": [
    "It is obvious that the customer satisfaction kept dropping since 2020 Aug and reached the lowest in Dec. In order to improve the NPS and retent customers, the company can begin by surveying its customers to get feedback and gain some understanding as to what's driving this apparent insatisfaction."
   ]
  },
  {
   "cell_type": "markdown",
   "id": "2263a3e6-7d18-4b3c-8dba-2b98e68f33b4",
   "metadata": {},
   "source": [
    "## Churn Rate"
   ]
  },
  {
   "cell_type": "markdown",
   "id": "1782fc76-d12b-49cd-8a3a-11595fafbf82",
   "metadata": {},
   "source": [
    "Churn Rate is one of the most important metrics for companies. Customers are the cashflow of a company. When a customer stops being a customer, cash stops flowing in. Churn rate is the percentage of customers that churned in a given time period.\n",
    "\n",
    "Formula: Churned customers/Total customers"
   ]
  },
  {
   "cell_type": "markdown",
   "id": "634554b2-ff36-4abf-bc35-48cb7382d173",
   "metadata": {},
   "source": [
    "In this case, I plan to purchase a local gym from its previous owners. I would like to see why the business was unprofitable as there is a large potential in the market."
   ]
  },
  {
   "cell_type": "code",
   "execution_count": 38,
   "id": "977d16bb-697b-4f94-abb9-447cbc680864",
   "metadata": {},
   "outputs": [
    {
     "name": "stdout",
     "output_type": "stream",
     "text": [
      "<class 'pandas.core.frame.DataFrame'>\n",
      "RangeIndex: 10497 entries, 0 to 10496\n",
      "Data columns (total 6 columns):\n",
      " #   Column               Non-Null Count  Dtype         \n",
      "---  ------               --------------  -----         \n",
      " 0   id                   10497 non-null  int64         \n",
      " 1   customer_id          10497 non-null  int64         \n",
      " 2   end_date             10497 non-null  datetime64[ns]\n",
      " 3   start_date           10497 non-null  datetime64[ns]\n",
      " 4   subscription_period  10497 non-null  object        \n",
      " 5   price                10497 non-null  int64         \n",
      "dtypes: datetime64[ns](2), int64(3), object(1)\n",
      "memory usage: 492.2+ KB\n"
     ]
    }
   ],
   "source": [
    "gym = pd.read_csv(\"/Users/chanemma/Desktop/Dataquest/muscle_labs.csv\", parse_dates=['start_date','end_date'])\n",
    "gym.info()"
   ]
  },
  {
   "cell_type": "code",
   "execution_count": 39,
   "id": "f980af91-7eff-400e-8f09-47f2ba4ad136",
   "metadata": {},
   "outputs": [],
   "source": [
    "year = gym['end_date'].dt.year\n",
    "month = gym['end_date'].dt.month\n",
    "gym['churn_month'] = 100*year + month"
   ]
  },
  {
   "cell_type": "code",
   "execution_count": 40,
   "id": "f5c8893c-230e-4428-a016-f188ba1ff002",
   "metadata": {},
   "outputs": [
    {
     "data": {
      "text/html": [
       "<div>\n",
       "<style scoped>\n",
       "    .dataframe tbody tr th:only-of-type {\n",
       "        vertical-align: middle;\n",
       "    }\n",
       "\n",
       "    .dataframe tbody tr th {\n",
       "        vertical-align: top;\n",
       "    }\n",
       "\n",
       "    .dataframe thead th {\n",
       "        text-align: right;\n",
       "    }\n",
       "</style>\n",
       "<table border=\"1\" class=\"dataframe\">\n",
       "  <thead>\n",
       "    <tr style=\"text-align: right;\">\n",
       "      <th></th>\n",
       "      <th>total_churned</th>\n",
       "    </tr>\n",
       "    <tr>\n",
       "      <th>churn_month</th>\n",
       "      <th></th>\n",
       "    </tr>\n",
       "  </thead>\n",
       "  <tbody>\n",
       "    <tr>\n",
       "      <th>201103</th>\n",
       "      <td>8</td>\n",
       "    </tr>\n",
       "    <tr>\n",
       "      <th>201104</th>\n",
       "      <td>16</td>\n",
       "    </tr>\n",
       "    <tr>\n",
       "      <th>201105</th>\n",
       "      <td>29</td>\n",
       "    </tr>\n",
       "    <tr>\n",
       "      <th>201106</th>\n",
       "      <td>27</td>\n",
       "    </tr>\n",
       "    <tr>\n",
       "      <th>201107</th>\n",
       "      <td>37</td>\n",
       "    </tr>\n",
       "  </tbody>\n",
       "</table>\n",
       "</div>"
      ],
      "text/plain": [
       "             total_churned\n",
       "churn_month               \n",
       "201103                   8\n",
       "201104                  16\n",
       "201105                  29\n",
       "201106                  27\n",
       "201107                  37"
      ]
     },
     "execution_count": 40,
     "metadata": {},
     "output_type": "execute_result"
    }
   ],
   "source": [
    "monthly_churn = pd.DataFrame()\n",
    "monthly_churn['total_churned'] = gym.groupby([\"churn_month\"]).size()\n",
    "monthly_churn.head()"
   ]
  },
  {
   "cell_type": "code",
   "execution_count": 41,
   "id": "b485c907-7771-4302-a6ea-ccb89de2cc9f",
   "metadata": {},
   "outputs": [
    {
     "data": {
      "text/plain": [
       "<AxesSubplot:xlabel='churn_month'>"
      ]
     },
     "execution_count": 41,
     "metadata": {},
     "output_type": "execute_result"
    },
    {
     "data": {
      "image/png": "[encoded data removed]",
      "text/plain": [
       "<Figure size 1080x504 with 1 Axes>"
      ]
     },
     "metadata": {},
     "output_type": "display_data"
    }
   ],
   "source": [
    "fig, ax = plt.subplots(figsize=(15,7))\n",
    "monthly_churn['total_churned'].plot.bar()"
   ]
  },
  {
   "cell_type": "markdown",
   "id": "afa20e10",
   "metadata": {},
   "source": [
    "The above bar chart shows that most customers churned in 2014 Dec. However, the way monthly_churn is created, it can only contain months in which customers have churned — it could potentially be missing a few months."
   ]
  },
  {
   "cell_type": "code",
   "execution_count": 42,
   "id": "ff1e4d7b",
   "metadata": {},
   "outputs": [
    {
     "name": "stdout",
     "output_type": "stream",
     "text": [
      "[201101, 201102, 201103, 201104, 201105, 201106, 201107, 201108, 201109, 201110, 201111, 201112, 201201, 201202, 201203, 201204, 201205, 201206, 201207, 201208, 201209, 201210, 201211, 201212, 201301, 201302, 201303, 201304, 201305, 201306, 201307, 201308, 201309, 201310, 201311, 201312, 201401, 201402, 201403, 201404, 201405, 201406, 201407, 201408, 201409, 201410, 201411, 201412, 201501, 201502]\n"
     ]
    }
   ],
   "source": [
    "years = list(range(2011,2016))\n",
    "months = list(range(1,13))\n",
    "yearmonths = [y*100+m for y in years for m in months]\n",
    "print(yearmonths[:-10])"
   ]
  },
  {
   "cell_type": "code",
   "execution_count": 43,
   "id": "1202d573",
   "metadata": {},
   "outputs": [],
   "source": [
    "churn = pd.DataFrame({\"yearmonth\": yearmonths})\n",
    "churn = pd.merge(churn, monthly_churn, left_on='yearmonth', right_index=True, how='left')\n",
    "churn.head()\n",
    "churn = churn.fillna(0)\n",
    "churn['total_churned']=churn['total_churned'].astype(int)"
   ]
  },
  {
   "cell_type": "markdown",
   "id": "aae3ee04",
   "metadata": {},
   "source": [
    "After merging the monthly_churn with full months table, churn period will be defined and calculate the churn rate."
   ]
  },
  {
   "cell_type": "code",
   "execution_count": 44,
   "id": "7808aede",
   "metadata": {},
   "outputs": [],
   "source": [
    "def get_customers(yearmonth):\n",
    "    year = yearmonth//100\n",
    "    month = yearmonth-year*100\n",
    "    date = dt.datetime(year, month, 1)\n",
    "    \n",
    "    return ((gym[\"start_date\"] < date) & (date <= gym[\"end_date\"])).sum()"
   ]
  },
  {
   "cell_type": "code",
   "execution_count": 45,
   "id": "b9103bb6",
   "metadata": {},
   "outputs": [
    {
     "data": {
      "text/html": [
       "<div>\n",
       "<style scoped>\n",
       "    .dataframe tbody tr th:only-of-type {\n",
       "        vertical-align: middle;\n",
       "    }\n",
       "\n",
       "    .dataframe tbody tr th {\n",
       "        vertical-align: top;\n",
       "    }\n",
       "\n",
       "    .dataframe thead th {\n",
       "        text-align: right;\n",
       "    }\n",
       "</style>\n",
       "<table border=\"1\" class=\"dataframe\">\n",
       "  <thead>\n",
       "    <tr style=\"text-align: right;\">\n",
       "      <th></th>\n",
       "      <th>yearmonth</th>\n",
       "      <th>total_churned</th>\n",
       "      <th>total_customers</th>\n",
       "      <th>churn_rate</th>\n",
       "    </tr>\n",
       "  </thead>\n",
       "  <tbody>\n",
       "    <tr>\n",
       "      <th>0</th>\n",
       "      <td>201101</td>\n",
       "      <td>0</td>\n",
       "      <td>0</td>\n",
       "      <td>NaN</td>\n",
       "    </tr>\n",
       "    <tr>\n",
       "      <th>1</th>\n",
       "      <td>201102</td>\n",
       "      <td>0</td>\n",
       "      <td>17</td>\n",
       "      <td>0.000000</td>\n",
       "    </tr>\n",
       "    <tr>\n",
       "      <th>2</th>\n",
       "      <td>201103</td>\n",
       "      <td>8</td>\n",
       "      <td>47</td>\n",
       "      <td>0.170213</td>\n",
       "    </tr>\n",
       "    <tr>\n",
       "      <th>3</th>\n",
       "      <td>201104</td>\n",
       "      <td>16</td>\n",
       "      <td>82</td>\n",
       "      <td>0.195122</td>\n",
       "    </tr>\n",
       "    <tr>\n",
       "      <th>4</th>\n",
       "      <td>201105</td>\n",
       "      <td>29</td>\n",
       "      <td>105</td>\n",
       "      <td>0.276190</td>\n",
       "    </tr>\n",
       "  </tbody>\n",
       "</table>\n",
       "</div>"
      ],
      "text/plain": [
       "  yearmonth  total_churned  total_customers  churn_rate\n",
       "0    201101              0                0         NaN\n",
       "1    201102              0               17    0.000000\n",
       "2    201103              8               47    0.170213\n",
       "3    201104             16               82    0.195122\n",
       "4    201105             29              105    0.276190"
      ]
     },
     "execution_count": 45,
     "metadata": {},
     "output_type": "execute_result"
    }
   ],
   "source": [
    "churn['total_customers'] = churn['yearmonth'].apply(get_customers)\n",
    "churn['churn_rate'] = churn['total_churned']/churn['total_customers']\n",
    "churn['yearmonth'] = churn['yearmonth'].astype(str)\n",
    "churn.head()"
   ]
  },
  {
   "cell_type": "code",
   "execution_count": 46,
   "id": "2ce48f0d",
   "metadata": {},
   "outputs": [
    {
     "data": {
      "image/png": "[encoded data removed]",
      "text/plain": [
       "<Figure size 1296x792 with 1 Axes>"
      ]
     },
     "metadata": {},
     "output_type": "display_data"
    }
   ],
   "source": [
    "sns.set(rc={'figure.figsize':(18,11)})\n",
    "ax = sns.lineplot(x=\"yearmonth\", y=\"churn_rate\", data=churn)\n",
    "ax.tick_params(axis='x', rotation=75)"
   ]
  },
  {
   "cell_type": "markdown",
   "id": "3f300ed2",
   "metadata": {},
   "source": [
    "Above line chart shows that the churn rate started to rise in July 2015 and reached 100% within 5 months. Surveys should be sent out to the churned customers, gather their feedbacks and improve the whole business model."
   ]
  },
  {
   "cell_type": "code",
   "execution_count": null,
   "id": "8b3b7531",
   "metadata": {},
   "outputs": [],
   "source": []
  }
 ],
 "metadata": {
  "kernelspec": {
   "display_name": "Python 3",
   "language": "python",
   "name": "python3"
  },
  "language_info": {
   "codemirror_mode": {
    "name": "ipython",
    "version": 3
   },
   "file_extension": ".py",
   "mimetype": "text/x-python",
   "name": "python",
   "nbconvert_exporter": "python",
   "pygments_lexer": "ipython3",
   "version": "3.8.8"
  }
 },
 "nbformat": 4,
 "nbformat_minor": 5
}

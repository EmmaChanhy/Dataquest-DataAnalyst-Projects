{
 "cells": [
  {
   "cell_type": "markdown",
   "metadata": {},
   "source": [
    "# Introduction"
   ]
  },
  {
   "cell_type": "markdown",
   "metadata": {},
   "source": [
    "Data analysts need to solve business questions daily by directly querying the database. This project will demonstrate the way of answering business questions using SQL."
   ]
  },
  {
   "cell_type": "markdown",
   "metadata": {},
   "source": [
    "# Database connection"
   ]
  },
  {
   "cell_type": "code",
   "execution_count": 1,
   "metadata": {
    "collapsed": false
   },
   "outputs": [
    {
     "data": {
      "text/plain": [
       "'Connected: None@chinook.db'"
      ]
     },
     "execution_count": 1,
     "metadata": {},
     "output_type": "execute_result"
    }
   ],
   "source": [
    "%%capture\n",
    "%load_ext sql\n",
    "%sql sqlite:///chinook.db"
   ]
  },
  {
   "cell_type": "code",
   "execution_count": 5,
   "metadata": {
    "collapsed": false
   },
   "outputs": [
    {
     "name": "stdout",
     "output_type": "stream",
     "text": [
      "Done.\n"
     ]
    },
    {
     "data": {
      "text/html": [
       "<table>\n",
       "    <tr>\n",
       "        <th>name</th>\n",
       "        <th>type</th>\n",
       "    </tr>\n",
       "    <tr>\n",
       "        <td>album</td>\n",
       "        <td>table</td>\n",
       "    </tr>\n",
       "    <tr>\n",
       "        <td>artist</td>\n",
       "        <td>table</td>\n",
       "    </tr>\n",
       "    <tr>\n",
       "        <td>customer</td>\n",
       "        <td>table</td>\n",
       "    </tr>\n",
       "    <tr>\n",
       "        <td>employee</td>\n",
       "        <td>table</td>\n",
       "    </tr>\n",
       "    <tr>\n",
       "        <td>genre</td>\n",
       "        <td>table</td>\n",
       "    </tr>\n",
       "    <tr>\n",
       "        <td>invoice</td>\n",
       "        <td>table</td>\n",
       "    </tr>\n",
       "    <tr>\n",
       "        <td>invoice_line</td>\n",
       "        <td>table</td>\n",
       "    </tr>\n",
       "    <tr>\n",
       "        <td>media_type</td>\n",
       "        <td>table</td>\n",
       "    </tr>\n",
       "    <tr>\n",
       "        <td>playlist</td>\n",
       "        <td>table</td>\n",
       "    </tr>\n",
       "    <tr>\n",
       "        <td>playlist_track</td>\n",
       "        <td>table</td>\n",
       "    </tr>\n",
       "    <tr>\n",
       "        <td>track</td>\n",
       "        <td>table</td>\n",
       "    </tr>\n",
       "</table>"
      ],
      "text/plain": [
       "[('album', 'table'),\n",
       " ('artist', 'table'),\n",
       " ('customer', 'table'),\n",
       " ('employee', 'table'),\n",
       " ('genre', 'table'),\n",
       " ('invoice', 'table'),\n",
       " ('invoice_line', 'table'),\n",
       " ('media_type', 'table'),\n",
       " ('playlist', 'table'),\n",
       " ('playlist_track', 'table'),\n",
       " ('track', 'table')]"
      ]
     },
     "execution_count": 5,
     "metadata": {},
     "output_type": "execute_result"
    }
   ],
   "source": [
    "%%sql\n",
    "SELECT\n",
    "    name,\n",
    "    type\n",
    "FROM sqlite_master\n",
    "WHERE type IN (\"table\",\"view\");"
   ]
  },
  {
   "cell_type": "markdown",
   "metadata": {},
   "source": [
    "# Background"
   ]
  },
  {
   "cell_type": "markdown",
   "metadata": {},
   "source": [
    "The Chinook is a music company in USA. The marketing team would like to get info about the industry, so that the team would make their marketing plan efficiently:\n",
    "- Top 3 best-selling genre\n",
    "- Top 3 best-selling artist name"
   ]
  },
  {
   "cell_type": "code",
   "execution_count": 82,
   "metadata": {
    "collapsed": false
   },
   "outputs": [
    {
     "name": "stdout",
     "output_type": "stream",
     "text": [
      "Done.\n"
     ]
    },
    {
     "data": {
      "text/html": [
       "<table>\n",
       "    <tr>\n",
       "        <th>genre</th>\n",
       "        <th>total_quantity_sold</th>\n",
       "    </tr>\n",
       "    <tr>\n",
       "        <td>Rock</td>\n",
       "        <td>1297</td>\n",
       "    </tr>\n",
       "    <tr>\n",
       "        <td>Latin</td>\n",
       "        <td>579</td>\n",
       "    </tr>\n",
       "    <tr>\n",
       "        <td>Metal</td>\n",
       "        <td>374</td>\n",
       "    </tr>\n",
       "</table>"
      ],
      "text/plain": [
       "[('Rock', 1297), ('Latin', 579), ('Metal', 374)]"
      ]
     },
     "execution_count": 82,
     "metadata": {},
     "output_type": "execute_result"
    }
   ],
   "source": [
    "%%sql\n",
    "WITH invoice_line_track AS \n",
    "    (\n",
    "     SELECT SUM(il.quantity) AS total_quantity_sold,\n",
    "            t.genre_id\n",
    "     FROM invoice_line il\n",
    "     INNER JOIN track t\n",
    "     ON il.invoice_line_id = t.track_id\n",
    "     GROUP BY t.genre_id\n",
    "    )\n",
    "    \n",
    "SELECT \n",
    "    g.name AS genre, \n",
    "    total_quantity_sold FROM invoice_line_track\n",
    "INNER JOIN genre g\n",
    "ON invoice_line_track.genre_id = g.genre_id\n",
    "ORDER BY total_quantity_sold DESC\n",
    "LIMIT 3;"
   ]
  },
  {
   "cell_type": "code",
   "execution_count": 83,
   "metadata": {
    "collapsed": false
   },
   "outputs": [
    {
     "name": "stdout",
     "output_type": "stream",
     "text": [
      "Done.\n"
     ]
    },
    {
     "data": {
      "text/html": [
       "<table>\n",
       "    <tr>\n",
       "        <th>artist_name</th>\n",
       "        <th>total_quantity_sold</th>\n",
       "    </tr>\n",
       "    <tr>\n",
       "        <td>The Police</td>\n",
       "        <td>57</td>\n",
       "    </tr>\n",
       "    <tr>\n",
       "        <td>Frank Zappa &amp; Captain Beefheart</td>\n",
       "        <td>34</td>\n",
       "    </tr>\n",
       "    <tr>\n",
       "        <td>Vinícius E Qurteto Em Cy</td>\n",
       "        <td>30</td>\n",
       "    </tr>\n",
       "</table>"
      ],
      "text/plain": [
       "[('The Police', 57),\n",
       " ('Frank Zappa & Captain Beefheart', 34),\n",
       " ('Vinícius E Qurteto Em Cy', 30)]"
      ]
     },
     "execution_count": 83,
     "metadata": {},
     "output_type": "execute_result"
    }
   ],
   "source": [
    "%%sql\n",
    "WITH invoice_line_track AS \n",
    "    (\n",
    "     SELECT SUM(il.quantity) AS total_quantity_sold,\n",
    "            t.album_id\n",
    "     FROM invoice_line il\n",
    "     INNER JOIN track t\n",
    "     ON il.invoice_line_id = t.track_id\n",
    "     GROUP BY t.album_id\n",
    "    ),\n",
    "     artist_album AS \n",
    "    (\n",
    "     SELECT artist.name AS artist_name, album_id\n",
    "     FROM artist\n",
    "     INNER JOIN album\n",
    "     ON artist.artist_id = album.album_id\n",
    "    )\n",
    "    \n",
    "SELECT \n",
    "    artist_name, \n",
    "    total_quantity_sold FROM invoice_line_track ilt\n",
    "INNER JOIN artist_album aa\n",
    "ON ilt.album_id = aa.album_id\n",
    "ORDER BY total_quantity_sold DESC\n",
    "LIMIT 3;"
   ]
  },
  {
   "cell_type": "markdown",
   "metadata": {},
   "source": [
    "Above results shows that Rock is most popular among the genre, followed by Latin and Metal. In addition, the top 3 best-selling artist names are The Police, Frank Zappa & Captain Beefheart & Vinícius E Qurteto Em Cy."
   ]
  },
  {
   "cell_type": "markdown",
   "metadata": {},
   "source": [
    "Furthermore, Sales Manager would like to know:\n",
    "- Sales trend by year \n",
    "- Performance of the team by top 3 sales and their distribution."
   ]
  },
  {
   "cell_type": "code",
   "execution_count": 84,
   "metadata": {
    "collapsed": false
   },
   "outputs": [
    {
     "name": "stdout",
     "output_type": "stream",
     "text": [
      "Done.\n"
     ]
    },
    {
     "data": {
      "text/html": [
       "<table>\n",
       "    <tr>\n",
       "        <th>year</th>\n",
       "        <th>total_sales_amount</th>\n",
       "    </tr>\n",
       "    <tr>\n",
       "        <td>2017</td>\n",
       "        <td>1201.8600000000013</td>\n",
       "    </tr>\n",
       "    <tr>\n",
       "        <td>2018</td>\n",
       "        <td>1147.4100000000008</td>\n",
       "    </tr>\n",
       "    <tr>\n",
       "        <td>2019</td>\n",
       "        <td>1221.6600000000014</td>\n",
       "    </tr>\n",
       "    <tr>\n",
       "        <td>2020</td>\n",
       "        <td>1138.5000000000005</td>\n",
       "    </tr>\n",
       "</table>"
      ],
      "text/plain": [
       "[('2017', 1201.8600000000013),\n",
       " ('2018', 1147.4100000000008),\n",
       " ('2019', 1221.6600000000014),\n",
       " ('2020', 1138.5000000000005)]"
      ]
     },
     "execution_count": 84,
     "metadata": {},
     "output_type": "execute_result"
    }
   ],
   "source": [
    "%%sql\n",
    "SELECT strftime('%Y', invoice_date) AS year,\n",
    "       SUM(total) AS total_sales_amount\n",
    "FROM invoice\n",
    "GROUP BY year;"
   ]
  },
  {
   "cell_type": "code",
   "execution_count": 85,
   "metadata": {
    "collapsed": false
   },
   "outputs": [
    {
     "name": "stdout",
     "output_type": "stream",
     "text": [
      "Done.\n"
     ]
    },
    {
     "data": {
      "text/html": [
       "<table>\n",
       "    <tr>\n",
       "        <th>employee_name</th>\n",
       "        <th>total_sales_amount</th>\n",
       "        <th>sales_percentage</th>\n",
       "    </tr>\n",
       "    <tr>\n",
       "        <td>Jane Peacock</td>\n",
       "        <td>1731.5100000000039</td>\n",
       "        <td>0.3676686987597238</td>\n",
       "    </tr>\n",
       "    <tr>\n",
       "        <td>Margaret Park</td>\n",
       "        <td>1584.0000000000034</td>\n",
       "        <td>0.336346436829936</td>\n",
       "    </tr>\n",
       "    <tr>\n",
       "        <td>Steve Johnson</td>\n",
       "        <td>1393.920000000002</td>\n",
       "        <td>0.29598486441034344</td>\n",
       "    </tr>\n",
       "</table>"
      ],
      "text/plain": [
       "[('Jane Peacock', 1731.5100000000039, 0.3676686987597238),\n",
       " ('Margaret Park', 1584.0000000000034, 0.336346436829936),\n",
       " ('Steve Johnson', 1393.920000000002, 0.29598486441034344)]"
      ]
     },
     "execution_count": 85,
     "metadata": {},
     "output_type": "execute_result"
    }
   ],
   "source": [
    "%%sql\n",
    "WITH employee_customer AS \n",
    "    (\n",
    "     SELECT e.employee_id,\n",
    "     e.first_name || \" \" || e.last_name AS employee_name,\n",
    "     c.customer_id\n",
    "     FROM employee e\n",
    "     INNER JOIN customer c\n",
    "     ON e.employee_id = c.support_rep_id\n",
    "    )\n",
    "    \n",
    "SELECT \n",
    "    employee_name, \n",
    "    SUM(i.total) AS total_sales_amount,\n",
    "    SUM(i.total) / (SELECT SUM(total) FROM invoice) sales_percentage\n",
    "FROM employee_customer ec\n",
    "INNER JOIN invoice i\n",
    "ON ec.customer_id = i.customer_id\n",
    "GROUP BY employee_name\n",
    "ORDER BY total_sales_amount DESC\n",
    "LIMIT 3;"
   ]
  },
  {
   "cell_type": "code",
   "execution_count": null,
   "metadata": {
    "collapsed": true
   },
   "outputs": [],
   "source": []
  }
 ],
 "metadata": {
  "kernelspec": {
   "display_name": "Python 3",
   "language": "python",
   "name": "python3"
  },
  "language_info": {
   "codemirror_mode": {
    "name": "ipython",
    "version": 3
   },
   "file_extension": ".py",
   "mimetype": "text/x-python",
   "name": "python",
   "nbconvert_exporter": "python",
   "pygments_lexer": "ipython3",
   "version": "3.4.3"
  }
 },
 "nbformat": 4,
 "nbformat_minor": 2
}
